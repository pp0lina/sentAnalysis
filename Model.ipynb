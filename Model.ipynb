{
 "cells": [
  {
   "cell_type": "markdown",
   "id": "8ec9acef-76a5-4e50-a17d-ad0788f2f4b3",
   "metadata": {},
   "source": [
    "# Model Development and Evaluation"
   ]
  },
  {
   "cell_type": "markdown",
   "id": "3fd98ea3-5503-4c9d-8ca5-b927ae268fcb",
   "metadata": {},
   "source": [
    "### Import the required libraries and packages \n",
    "*Import the preprocessed dataset, set device to use GPU if CUDA is available*"
   ]
  },
  {
   "cell_type": "code",
   "execution_count": 19,
   "id": "9cc19742-a67a-47ff-a377-941dd0cff5c5",
   "metadata": {},
   "outputs": [],
   "source": [
    "import pandas as pd\n",
    "import numpy as np\n",
    "from sklearn.model_selection import train_test_split\n",
    "from torch.utils.data import Dataset, DataLoader\n",
    "import torch\n",
    "from transformers import AutoTokenizer, AutoModelForSequenceClassification, Trainer, TrainingArguments, pipeline\n",
    "import matplotlib.pyplot as plt\n",
    "import seaborn as sns\n",
    "from sklearn.metrics import (confusion_matrix, classification_report, \n",
    "                             accuracy_score, precision_score, recall_score, f1_score)\n",
    "\n",
    "df = pd.read_csv('cleaned_reviews.csv')\n",
    "\n",
    "# Set device to GPU\n",
    "device = torch.device(\"cuda\" if torch.cuda.is_available() else \"cpu\")\n"
   ]
  },
  {
   "cell_type": "markdown",
   "id": "88a7bca7-3007-4686-b173-f34d09f5d48d",
   "metadata": {},
   "source": [
    "### The initial dataset is split into small, medium, and large sizes\n",
    "*After this, the resulting datasets are split into training and testing subsets*"
   ]
  },
  {
   "cell_type": "code",
   "execution_count": 20,
   "id": "8120d8ab-7dc0-45d9-b9c1-752a17dd35c0",
   "metadata": {},
   "outputs": [],
   "source": [
    "# Shuffle the dataset for randomness\n",
    "df = df.sample(frac=1, random_state=42).reset_index(drop=True)\n",
    "\n",
    "def split_dataset(df):\n",
    "    return train_test_split(\n",
    "        df, test_size=0.2, stratify=df['sentiment'], random_state=42\n",
    "    )\n",
    "\n",
    "\n",
    "# Define datasets\n",
    "small_dataset = df[:500]\n",
    "medium_dataset = df[:1000]\n",
    "large_dataset = df[:10000]\n",
    "\n",
    "train_small, test_small = split_dataset(small_dataset)\n",
    "train_medium, test_medium = split_dataset(medium_dataset)\n",
    "train_large, test_large = split_dataset(large_dataset)\n"
   ]
  },
  {
   "cell_type": "markdown",
   "id": "8ceeea75-7ed0-46e9-a433-4ec5a59073d0",
   "metadata": {},
   "source": [
    "### The datasets are tokenized using DistilBERT's tokenizer"
   ]
  },
  {
   "cell_type": "code",
   "execution_count": 21,
   "id": "f6f09bf5-0bc9-4c2f-9c33-e167e4c99611",
   "metadata": {},
   "outputs": [],
   "source": [
    "# Load tokenizer\n",
    "checkpoint = \"distilbert-base-uncased\"\n",
    "tokenizer = AutoTokenizer.from_pretrained(checkpoint, model_max_length=128)\n",
    "\n",
    "# Tokenization function\n",
    "def tokenize_data(df):\n",
    "    return tokenizer(\n",
    "        list(df['review']),\n",
    "        truncation=True,\n",
    "        padding=True,\n",
    "        return_tensors=\"pt\"\n",
    "    )\n",
    "    \n",
    "    return {key: list(val) for key, val in encoded.items()}\n",
    "\n",
    "\n",
    "# Tokenize datasets\n",
    "tokenized_train_small = tokenize_data(train_small)\n",
    "tokenized_test_small = tokenize_data(test_small)\n",
    "\n",
    "tokenized_train_medium = tokenize_data(train_medium)\n",
    "tokenized_test_medium = tokenize_data(test_medium)\n",
    "\n",
    "tokenized_train_large = tokenize_data(train_large)\n",
    "tokenized_test_large = tokenize_data(test_large)\n",
    "\n",
    "\n",
    "# Convert datasets to PyTorch dataset objects\n",
    "class SentimentDataset(torch.utils.data.Dataset):\n",
    "    def __init__(self, df, tokenizer):\n",
    "        self.reviews = df[\"review\"].tolist()\n",
    "        self.labels = df[\"sentiment\"].tolist()\n",
    "        self.tokenizer = tokenizer\n",
    "\n",
    "    def __len__(self):\n",
    "        return len(self.labels)\n",
    "\n",
    "    def __getitem__(self, idx):\n",
    "        encodings = self.tokenizer(\n",
    "            self.reviews[idx],\n",
    "            truncation=True,\n",
    "            padding=\"max_length\",\n",
    "            return_tensors=\"pt\"\n",
    "        )\n",
    "        item = {key: val.squeeze(0) for key, val in encodings.items()}\n",
    "        item[\"labels\"] = torch.tensor(self.labels[idx], dtype=torch.long)\n",
    "        return item\n",
    "\n",
    "\n",
    "# Prepare the datasets\n",
    "train_dataset_small = SentimentDataset(train_small, tokenizer)\n",
    "test_dataset_small = SentimentDataset(test_small, tokenizer)\n",
    "\n",
    "train_dataset_medium = SentimentDataset(train_medium, tokenizer)\n",
    "test_dataset_medium = SentimentDataset(test_medium, tokenizer)\n",
    "\n",
    "train_dataset_large = SentimentDataset(train_large, tokenizer)\n",
    "test_dataset_large = SentimentDataset(test_large, tokenizer)\n"
   ]
  },
  {
   "cell_type": "markdown",
   "id": "70b9b9eb-49eb-4ca5-b7bd-151c43bc27d3",
   "metadata": {},
   "source": [
    "### Initializing DistilBERT model"
   ]
  },
  {
   "cell_type": "code",
   "execution_count": 22,
   "id": "07059d51-0661-45c1-b049-9111d15538cd",
   "metadata": {},
   "outputs": [
    {
     "name": "stderr",
     "output_type": "stream",
     "text": [
      "Some weights of DistilBertForSequenceClassification were not initialized from the model checkpoint at distilbert-base-uncased and are newly initialized: ['classifier.bias', 'classifier.weight', 'pre_classifier.bias', 'pre_classifier.weight']\n",
      "You should probably TRAIN this model on a down-stream task to be able to use it for predictions and inference.\n"
     ]
    },
    {
     "data": {
      "text/plain": [
       "DistilBertForSequenceClassification(\n",
       "  (distilbert): DistilBertModel(\n",
       "    (embeddings): Embeddings(\n",
       "      (word_embeddings): Embedding(30522, 768, padding_idx=0)\n",
       "      (position_embeddings): Embedding(512, 768)\n",
       "      (LayerNorm): LayerNorm((768,), eps=1e-12, elementwise_affine=True)\n",
       "      (dropout): Dropout(p=0.1, inplace=False)\n",
       "    )\n",
       "    (transformer): Transformer(\n",
       "      (layer): ModuleList(\n",
       "        (0-5): 6 x TransformerBlock(\n",
       "          (attention): MultiHeadSelfAttention(\n",
       "            (dropout): Dropout(p=0.1, inplace=False)\n",
       "            (q_lin): Linear(in_features=768, out_features=768, bias=True)\n",
       "            (k_lin): Linear(in_features=768, out_features=768, bias=True)\n",
       "            (v_lin): Linear(in_features=768, out_features=768, bias=True)\n",
       "            (out_lin): Linear(in_features=768, out_features=768, bias=True)\n",
       "          )\n",
       "          (sa_layer_norm): LayerNorm((768,), eps=1e-12, elementwise_affine=True)\n",
       "          (ffn): FFN(\n",
       "            (dropout): Dropout(p=0.1, inplace=False)\n",
       "            (lin1): Linear(in_features=768, out_features=3072, bias=True)\n",
       "            (lin2): Linear(in_features=3072, out_features=768, bias=True)\n",
       "            (activation): GELUActivation()\n",
       "          )\n",
       "          (output_layer_norm): LayerNorm((768,), eps=1e-12, elementwise_affine=True)\n",
       "        )\n",
       "      )\n",
       "    )\n",
       "  )\n",
       "  (pre_classifier): Linear(in_features=768, out_features=768, bias=True)\n",
       "  (classifier): Linear(in_features=768, out_features=2, bias=True)\n",
       "  (dropout): Dropout(p=0.2, inplace=False)\n",
       ")"
      ]
     },
     "execution_count": 22,
     "metadata": {},
     "output_type": "execute_result"
    }
   ],
   "source": [
    "# Load the model\n",
    "model = AutoModelForSequenceClassification.from_pretrained(checkpoint, num_labels=2)\n",
    "model.to(device)"
   ]
  },
  {
   "cell_type": "markdown",
   "id": "c624752a-4c77-4534-bc51-f7bea3bebbb4",
   "metadata": {},
   "source": [
    "### Training and evaluating the model\n",
    "*Retrieving metrics like Accuracy, Precision, Recall, F1-Score, and Confusion Matrix. Plotting the received metrics and saving the models.*"
   ]
  },
  {
   "cell_type": "code",
   "execution_count": 23,
   "id": "f71fca41-0698-45a5-93a1-50ed99a56d2d",
   "metadata": {},
   "outputs": [
    {
     "name": "stderr",
     "output_type": "stream",
     "text": [
      "huggingface/tokenizers: The current process just got forked, after parallelism has already been used. Disabling parallelism to avoid deadlocks...\n",
      "To disable this warning, you can either:\n",
      "\t- Avoid using `tokenizers` before the fork if possible\n",
      "\t- Explicitly set the environment variable TOKENIZERS_PARALLELISM=(true | false)\n"
     ]
    },
    {
     "name": "stdout",
     "output_type": "stream",
     "text": [
      "\n",
      "Training and Evaluating on Small Dataset:\n"
     ]
    },
    {
     "name": "stderr",
     "output_type": "stream",
     "text": [
      "/tmp/ipykernel_1644/3343679981.py:25: FutureWarning: `tokenizer` is deprecated and will be removed in version 5.0.0 for `Trainer.__init__`. Use `processing_class` instead.\n",
      "  trainer = Trainer(\n"
     ]
    },
    {
     "data": {
      "text/html": [
       "\n",
       "    <div>\n",
       "      \n",
       "      <progress value='12' max='12' style='width:300px; height:20px; vertical-align: middle;'></progress>\n",
       "      [12/12 11:33, Epoch 1/2]\n",
       "    </div>\n",
       "    <table border=\"1\" class=\"dataframe\">\n",
       "  <thead>\n",
       " <tr style=\"text-align: left;\">\n",
       "      <th>Epoch</th>\n",
       "      <th>Training Loss</th>\n",
       "      <th>Validation Loss</th>\n",
       "      <th>Accuracy</th>\n",
       "    </tr>\n",
       "  </thead>\n",
       "  <tbody>\n",
       "    <tr>\n",
       "      <td>1</td>\n",
       "      <td>0.653700</td>\n",
       "      <td>0.684043</td>\n",
       "      <td>0.580000</td>\n",
       "    </tr>\n",
       "  </tbody>\n",
       "</table><p>"
      ],
      "text/plain": [
       "<IPython.core.display.HTML object>"
      ]
     },
     "metadata": {},
     "output_type": "display_data"
    },
    {
     "data": {
      "text/html": [],
      "text/plain": [
       "<IPython.core.display.HTML object>"
      ]
     },
     "metadata": {},
     "output_type": "display_data"
    },
    {
     "name": "stdout",
     "output_type": "stream",
     "text": [
      "\n",
      "Accuracy for Small Dataset: 0.58\n",
      "Confusion Matrix for Small Dataset:\n",
      " [[16 35]\n",
      " [ 7 42]]\n",
      "Classification Report for Small Dataset:\n",
      "               precision    recall  f1-score   support\n",
      "\n",
      "           0       0.70      0.31      0.43        51\n",
      "           1       0.55      0.86      0.67        49\n",
      "\n",
      "    accuracy                           0.58       100\n",
      "   macro avg       0.62      0.59      0.55       100\n",
      "weighted avg       0.62      0.58      0.55       100\n",
      "\n"
     ]
    },
    {
     "data": {
      "image/png": "[encoded data removed]",
      "text/plain": [
       "<Figure size 800x600 with 2 Axes>"
      ]
     },
     "metadata": {},
     "output_type": "display_data"
    },
    {
     "name": "stdout",
     "output_type": "stream",
     "text": [
      "\n",
      "Training and Evaluating on Medium Dataset:\n"
     ]
    },
    {
     "name": "stderr",
     "output_type": "stream",
     "text": [
      "/tmp/ipykernel_1644/3343679981.py:25: FutureWarning: `tokenizer` is deprecated and will be removed in version 5.0.0 for `Trainer.__init__`. Use `processing_class` instead.\n",
      "  trainer = Trainer(\n"
     ]
    },
    {
     "data": {
      "text/html": [
       "\n",
       "    <div>\n",
       "      \n",
       "      <progress value='24' max='24' style='width:300px; height:20px; vertical-align: middle;'></progress>\n",
       "      [24/24 31:42, Epoch 1/2]\n",
       "    </div>\n",
       "    <table border=\"1\" class=\"dataframe\">\n",
       "  <thead>\n",
       " <tr style=\"text-align: left;\">\n",
       "      <th>Epoch</th>\n",
       "      <th>Training Loss</th>\n",
       "      <th>Validation Loss</th>\n",
       "      <th>Accuracy</th>\n",
       "    </tr>\n",
       "  </thead>\n",
       "  <tbody>\n",
       "    <tr>\n",
       "      <td>1</td>\n",
       "      <td>0.453200</td>\n",
       "      <td>0.438383</td>\n",
       "      <td>0.820000</td>\n",
       "    </tr>\n",
       "  </tbody>\n",
       "</table><p>"
      ],
      "text/plain": [
       "<IPython.core.display.HTML object>"
      ]
     },
     "metadata": {},
     "output_type": "display_data"
    },
    {
     "data": {
      "text/html": [],
      "text/plain": [
       "<IPython.core.display.HTML object>"
      ]
     },
     "metadata": {},
     "output_type": "display_data"
    },
    {
     "name": "stdout",
     "output_type": "stream",
     "text": [
      "\n",
      "Accuracy for Medium Dataset: 0.82\n",
      "Confusion Matrix for Medium Dataset:\n",
      " [[89 16]\n",
      " [20 75]]\n",
      "Classification Report for Medium Dataset:\n",
      "               precision    recall  f1-score   support\n",
      "\n",
      "           0       0.82      0.85      0.83       105\n",
      "           1       0.82      0.79      0.81        95\n",
      "\n",
      "    accuracy                           0.82       200\n",
      "   macro avg       0.82      0.82      0.82       200\n",
      "weighted avg       0.82      0.82      0.82       200\n",
      "\n"
     ]
    },
    {
     "data": {
      "image/png": "[encoded data removed]",
      "text/plain": [
       "<Figure size 800x600 with 2 Axes>"
      ]
     },
     "metadata": {},
     "output_type": "display_data"
    },
    {
     "name": "stdout",
     "output_type": "stream",
     "text": [
      "\n",
      "Training and Evaluating on Large Dataset:\n"
     ]
    },
    {
     "name": "stderr",
     "output_type": "stream",
     "text": [
      "/tmp/ipykernel_1644/3343679981.py:25: FutureWarning: `tokenizer` is deprecated and will be removed in version 5.0.0 for `Trainer.__init__`. Use `processing_class` instead.\n",
      "  trainer = Trainer(\n"
     ]
    },
    {
     "data": {
      "text/html": [
       "\n",
       "    <div>\n",
       "      \n",
       "      <progress value='250' max='250' style='width:300px; height:20px; vertical-align: middle;'></progress>\n",
       "      [250/250 5:53:07, Epoch 2/2]\n",
       "    </div>\n",
       "    <table border=\"1\" class=\"dataframe\">\n",
       "  <thead>\n",
       " <tr style=\"text-align: left;\">\n",
       "      <th>Epoch</th>\n",
       "      <th>Training Loss</th>\n",
       "      <th>Validation Loss</th>\n",
       "      <th>Accuracy</th>\n",
       "    </tr>\n",
       "  </thead>\n",
       "  <tbody>\n",
       "    <tr>\n",
       "      <td>1</td>\n",
       "      <td>0.312600</td>\n",
       "      <td>0.325908</td>\n",
       "      <td>0.868500</td>\n",
       "    </tr>\n",
       "    <tr>\n",
       "      <td>2</td>\n",
       "      <td>0.243300</td>\n",
       "      <td>0.324564</td>\n",
       "      <td>0.877500</td>\n",
       "    </tr>\n",
       "  </tbody>\n",
       "</table><p>"
      ],
      "text/plain": [
       "<IPython.core.display.HTML object>"
      ]
     },
     "metadata": {},
     "output_type": "display_data"
    },
    {
     "data": {
      "text/html": [],
      "text/plain": [
       "<IPython.core.display.HTML object>"
      ]
     },
     "metadata": {},
     "output_type": "display_data"
    },
    {
     "name": "stdout",
     "output_type": "stream",
     "text": [
      "\n",
      "Accuracy for Large Dataset: 0.8775\n",
      "Confusion Matrix for Large Dataset:\n",
      " [[852 140]\n",
      " [105 903]]\n",
      "Classification Report for Large Dataset:\n",
      "               precision    recall  f1-score   support\n",
      "\n",
      "           0       0.89      0.86      0.87       992\n",
      "           1       0.87      0.90      0.88      1008\n",
      "\n",
      "    accuracy                           0.88      2000\n",
      "   macro avg       0.88      0.88      0.88      2000\n",
      "weighted avg       0.88      0.88      0.88      2000\n",
      "\n"
     ]
    },
    {
     "data": {
      "image/png": "[encoded data removed]",
      "text/plain": [
       "<Figure size 800x600 with 2 Axes>"
      ]
     },
     "metadata": {},
     "output_type": "display_data"
    },
    {
     "data": {
      "image/png": "[encoded data removed]",
      "text/plain": [
       "<Figure size 640x480 with 1 Axes>"
      ]
     },
     "metadata": {},
     "output_type": "display_data"
    }
   ],
   "source": [
    "# Define training arguments\n",
    "training_args = TrainingArguments(\n",
    "    output_dir=\"training_dir\",\n",
    "    num_train_epochs=2,\n",
    "    eval_strategy=\"epoch\",\n",
    "    save_strategy=\"epoch\",\n",
    "    per_device_train_batch_size=32,\n",
    "    per_device_eval_batch_size=64,\n",
    "    gradient_accumulation_steps=2,\n",
    "    logging_dir=\"logs\",\n",
    "    logging_steps=10,\n",
    "    save_total_limit=2,\n",
    "    report_to=\"none\",\n",
    "    fp16=torch.cuda.is_available(),\n",
    ")\n",
    "\n",
    "# Define custom accuracy metric\n",
    "def compute_metric(eval_pred):\n",
    "    logits, labels = eval_pred\n",
    "    predictions = np.argmax(logits, axis=-1)\n",
    "    accuracy = np.mean(predictions == labels)\n",
    "    return {\"accuracy\": accuracy}\n",
    "\n",
    "def train_and_evaluate(train_dataset, test_dataset):\n",
    "    trainer = Trainer(\n",
    "        model=model,\n",
    "        args=training_args,\n",
    "        train_dataset=train_dataset,\n",
    "        eval_dataset=test_dataset,\n",
    "        tokenizer=tokenizer,\n",
    "        compute_metrics=compute_metric,\n",
    "    )\n",
    "    trainer.train()\n",
    "    return trainer\n",
    "\n",
    "def evaluate(trainer, test_dataset, dataset_name, labels):\n",
    "    preds = trainer.predict(test_dataset)\n",
    "    predictions = np.argmax(preds.predictions, axis=-1)\n",
    "\n",
    "    acc = accuracy_score(test_dataset.labels, predictions)\n",
    "    prec = precision_score(test_dataset.labels, predictions, average='weighted')\n",
    "    rec = recall_score(test_dataset.labels, predictions, average='weighted')\n",
    "    f1 = f1_score(test_dataset.labels, predictions, average='weighted')\n",
    "\n",
    "    print(f\"\\nAccuracy for {dataset_name} Dataset:\", acc)\n",
    "    print(f\"Confusion Matrix for {dataset_name} Dataset:\\n\", confusion_matrix(test_dataset.labels, predictions))\n",
    "    print(f\"Classification Report for {dataset_name} Dataset:\\n\", classification_report(test_dataset.labels, predictions))\n",
    "\n",
    "    cm = confusion_matrix(test_dataset.labels, predictions)\n",
    "    plot_confusion_matrix(cm, labels, f'{dataset_name} Dataset Confusion Matrix')\n",
    "\n",
    "    return {\n",
    "        'accuracy': acc,\n",
    "        'precision': prec,\n",
    "        'recall': rec,\n",
    "        'f1-score': f1,\n",
    "    }\n",
    "\n",
    "# Confusion matrix plot\n",
    "def plot_confusion_matrix(cm, labels, title):\n",
    "    plt.figure(figsize=(8, 6))\n",
    "    sns.heatmap(cm, annot=True, fmt='d', cmap='Blues', xticklabels=labels, yticklabels=labels)\n",
    "    plt.title(title)\n",
    "    plt.ylabel('True Label')\n",
    "    plt.xlabel('Predicted Label')\n",
    "    plt.show()\n",
    "\n",
    "# Plot performance metrics\n",
    "def plot_metrics(metrics_dict):\n",
    "    datasets = list(metrics_dict.keys())\n",
    "    metrics = ['accuracy', 'precision', 'recall', 'f1-score']\n",
    "\n",
    "    for metric in metrics:\n",
    "        plt.plot(datasets, [metrics_dict[ds][metric] for ds in datasets], marker='o', label=metric)\n",
    "\n",
    "    plt.title('Performance Metrics Across Datasets')\n",
    "    plt.xlabel('Dataset')\n",
    "    plt.ylabel('Score')\n",
    "    plt.ylim(0, 1)\n",
    "    plt.legend()\n",
    "    plt.grid()\n",
    "    plt.show()\n",
    "\n",
    "# Train and evaluate on all datasets\n",
    "def main():\n",
    "    datasets = {\n",
    "        'Small': (train_dataset_small, test_dataset_small),\n",
    "        'Medium': (train_dataset_medium, test_dataset_medium),\n",
    "        'Large': (train_dataset_large, test_dataset_large),\n",
    "    }\n",
    "\n",
    "    metrics_dict = {}\n",
    "\n",
    "    for dataset_name, (train_data, test_data) in datasets.items():\n",
    "        print(f\"\\nTraining and Evaluating on {dataset_name} Dataset:\")\n",
    "        trainer = train_and_evaluate(train_data, test_data)\n",
    "        trainer.save_model(f\"saved_model_{dataset_name.lower()}\")\n",
    "        tokenizer.save_pretrained(f\"saved_model_{dataset_name.lower()}\")\n",
    "\n",
    "        metrics_dict[dataset_name] = evaluate(trainer, test_data, dataset_name, labels=[\"negative\", \"positive\"])\n",
    "\n",
    "    plot_metrics(metrics_dict)\n",
    "\n",
    "\n",
    "main()"
   ]
  },
  {
   "cell_type": "markdown",
   "id": "bfff952d-ac88-4e74-89d1-aae4e951240d",
   "metadata": {},
   "source": [
    "### Testing the model on custom film reviews"
   ]
  },
  {
   "cell_type": "code",
   "execution_count": 3,
   "id": "9b6b69b1-cb85-4543-a2ea-91a2cdb012ef",
   "metadata": {},
   "outputs": [
    {
     "name": "stderr",
     "output_type": "stream",
     "text": [
      "Device set to use cuda:0\n"
     ]
    },
    {
     "name": "stdout",
     "output_type": "stream",
     "text": [
      "[{'label': 'LABEL_1', 'score': 0.9589251279830933}]\n",
      "[{'label': 'LABEL_0', 'score': 0.8393914699554443}]\n"
     ]
    }
   ],
   "source": [
    "# Load the trained model for inference\n",
    "sentiment_classifier = pipeline(\n",
    "    \"text-classification\",\n",
    "    model=\"saved_model_large\",\n",
    "    tokenizer=\"saved_model_large\",\n",
    "    device=0 if torch.cuda.is_available() else -1\n",
    ")\n",
    "\n",
    "# Test the model\n",
    "print(sentiment_classifier(\"The movie was amazing, all my friends loved it!\"))\n",
    "print(sentiment_classifier(\"The movie was not so good, I found it boring.\"))"
   ]
  },
  {
   "cell_type": "markdown",
   "id": "eff1b026-83d2-47ab-a68d-48992759569e",
   "metadata": {},
   "source": [
    "## Testing the model to classify the overall sentiment towards the film"
   ]
  },
  {
   "cell_type": "markdown",
   "id": "33356005-f4a0-4cae-bb99-2fd3709387be",
   "metadata": {},
   "source": [
    "### Scrapping the Film Reviews from a Website\n",
    "*1) The code makes a request to the website to fetch the HTML content  \n",
    "2) The BeautifulSoup library is used to parse the HTML  \n",
    "3) The reviews are located  \n",
    "4) The desired text is extracted from the reviews*"
   ]
  },
  {
   "cell_type": "code",
   "execution_count": 14,
   "id": "91bc3907-ef11-4e3a-98a8-9b6bdf159da4",
   "metadata": {},
   "outputs": [
    {
     "name": "stdout",
     "output_type": "stream",
     "text": [
      "Scraping reviews for: staying_alive\n",
      "Collected 100 reviews for staying_alive\n",
      "Scraping reviews for: titanic\n",
      "Collected 100 reviews for titanic\n",
      "Scraping reviews for: ballistic_ecks_vs_sever\n",
      "Collected 100 reviews for ballistic_ecks_vs_sever\n",
      "\n",
      "Total reviews collected across all movies: 300\n"
     ]
    }
   ],
   "source": [
    "from bs4 import BeautifulSoup\n",
    "import requests\n",
    "\n",
    "# List of URLs to scrape reviews from\n",
    "urls = [\n",
    "    'https://www.rottentomatoes.com/m/staying_alive/reviews?type=user',\n",
    "    'https://www.rottentomatoes.com/m/titanic/reviews?type=user',\n",
    "    'https://www.rottentomatoes.com/m/ballistic_ecks_vs_sever/reviews?type=user'\n",
    "]\n",
    "\n",
    "# Function to get reviews from a single page\n",
    "def get_reviews(url):\n",
    "    headers = {\n",
    "        'User-Agent': 'Mozilla/5.0 (Windows NT 10.0; Win64; x64) AppleWebKit/537.36 (KHTML, like Gecko) Chrome/115.0 Safari/537.36'\n",
    "    }\n",
    "    \n",
    "    r = requests.get(url, headers=headers)\n",
    "    soup = BeautifulSoup(r.text, 'html.parser')\n",
    "    review_containers = soup.find_all('p', class_='audience-reviews__review')\n",
    "    \n",
    "    return [review.text.strip() for review in review_containers]\n",
    "\n",
    "\n",
    "# Function to collect all reviews\n",
    "def scrape_movie_reviews(base_url, max_pages=5):\n",
    "    all_reviews = []\n",
    "    \n",
    "    for page in range(1, max_pages + 1):\n",
    "        url = f\"{base_url}&page={page}\"\n",
    "        reviews = get_reviews(url)\n",
    "        \n",
    "        if not reviews:\n",
    "            break\n",
    "            \n",
    "        all_reviews.extend(reviews)\n",
    "        \n",
    "    return all_reviews\n",
    "\n",
    "\n",
    "all_reviews = {}\n",
    "\n",
    "for movie_url in urls:\n",
    "    movie_name = movie_url.split('/')[4]\n",
    "    print(f\"Scraping reviews for: {movie_name}\")\n",
    "    reviews = scrape_movie_reviews(movie_url, max_pages=5)\n",
    "    all_reviews[movie_name] = reviews\n",
    "    print(f\"Collected {len(reviews)} reviews for {movie_name}\")\n",
    "\n",
    "total_reviews = sum(len(revs) for revs in all_reviews.values())\n",
    "print(f\"\\nTotal reviews collected across all movies: {total_reviews}\")\n"
   ]
  },
  {
   "cell_type": "markdown",
   "id": "848c5008-0bb2-4824-b508-2a9e0b092a92",
   "metadata": {},
   "source": [
    "### Determining the overall sentiment"
   ]
  },
  {
   "cell_type": "markdown",
   "id": "c5cc157e-d11c-444a-beb3-f9a12033d78b",
   "metadata": {},
   "source": [
    "*Classifying films as overall negatively or positively rated*"
   ]
  },
  {
   "cell_type": "code",
   "execution_count": 15,
   "id": "7152882c-b579-4825-8e46-fa44a0715f55",
   "metadata": {},
   "outputs": [
    {
     "name": "stderr",
     "output_type": "stream",
     "text": [
      "Device set to use cuda:0\n"
     ]
    },
    {
     "name": "stdout",
     "output_type": "stream",
     "text": [
      "Scraping and analyzing reviews for: staying_alive\n",
      "Scraping and analyzing reviews for: titanic\n",
      "Scraping and analyzing reviews for: ballistic_ecks_vs_sever\n"
     ]
    },
    {
     "name": "stderr",
     "output_type": "stream",
     "text": [
      "Token indices sequence length is longer than the specified maximum sequence length for this model (173 > 128). Running this sequence through the model will result in indexing errors\n"
     ]
    },
    {
     "name": "stdout",
     "output_type": "stream",
     "text": [
      "\n",
      "Movie: staying_alive\n",
      "Total Reviews: 100\n",
      "Positive Reviews: 80\n",
      "Negative Reviews: 20\n",
      "Overall Sentiment: Positive\n",
      "\n",
      "Movie: titanic\n",
      "Total Reviews: 100\n",
      "Positive Reviews: 100\n",
      "Negative Reviews: 0\n",
      "Overall Sentiment: Positive\n",
      "\n",
      "Movie: ballistic_ecks_vs_sever\n",
      "Total Reviews: 100\n",
      "Positive Reviews: 40\n",
      "Negative Reviews: 60\n",
      "Overall Sentiment: Negative\n"
     ]
    }
   ],
   "source": [
    "from transformers import pipeline\n",
    "import torch\n",
    "from bs4 import BeautifulSoup\n",
    "import requests\n",
    "\n",
    "# Load the sentiment classifier\n",
    "sentiment_classifier = pipeline(\n",
    "    \"text-classification\",\n",
    "    model=\"saved_model_large\",\n",
    "    tokenizer=\"saved_model_large\",\n",
    "    device=0 if torch.cuda.is_available() else -1\n",
    ")\n",
    "\n",
    "# Classify reviews and determine overall movie sentiment\n",
    "def classify_movie_reviews(reviews):\n",
    "    positive, negative = 0, 0\n",
    "    for review in reviews:\n",
    "        result = sentiment_classifier(review[:512])[0]\n",
    "        if result['label'] == 'LABEL_1':\n",
    "            positive += 1\n",
    "        elif result['label'] == 'LABEL_0':\n",
    "            negative += 1\n",
    "    # Determine overall sentiment\n",
    "    overall_sentiment = 'Positive' if positive > negative else 'Negative'\n",
    "    return overall_sentiment, positive, negative\n",
    "\n",
    "# Main script to classify movies based on reviews\n",
    "movie_sentiments = {}\n",
    "\n",
    "for movie_url in urls:\n",
    "    movie_name = movie_url.split('/')[4]  # Extract movie name from URL\n",
    "    print(f\"Scraping and analyzing reviews for: {movie_name}\")\n",
    "    reviews = scrape_movie_reviews(movie_url, max_pages=5)\n",
    "    sentiment, positive_count, negative_count = classify_movie_reviews(reviews)\n",
    "    movie_sentiments[movie_name] = {\n",
    "        \"sentiment\": sentiment,\n",
    "        \"positive_count\": positive_count,\n",
    "        \"negative_count\": negative_count,\n",
    "        \"total_reviews\": len(reviews)\n",
    "    }\n",
    "\n",
    "# Print results\n",
    "for movie, data in movie_sentiments.items():\n",
    "    print(f\"\\nMovie: {movie}\")\n",
    "    print(f\"Total Reviews: {data['total_reviews']}\")\n",
    "    print(f\"Positive Reviews: {data['positive_count']}\")\n",
    "    print(f\"Negative Reviews: {data['negative_count']}\")\n",
    "    print(f\"Overall Sentiment: {data['sentiment']}\")"
   ]
  },
  {
   "cell_type": "code",
   "execution_count": null,
   "id": "b9f64732-83b3-40ab-a7a3-1fa5267bb7ca",
   "metadata": {},
   "outputs": [],
   "source": []
  }
 ],
 "metadata": {
  "kernelspec": {
   "display_name": "Python 3 (ipykernel)",
   "language": "python",
   "name": "python3"
  },
  "language_info": {
   "codemirror_mode": {
    "name": "ipython",
    "version": 3
   },
   "file_extension": ".py",
   "mimetype": "text/x-python",
   "name": "python",
   "nbconvert_exporter": "python",
   "pygments_lexer": "ipython3",
   "version": "3.9.21"
  }
 },
 "nbformat": 4,
 "nbformat_minor": 5
}
